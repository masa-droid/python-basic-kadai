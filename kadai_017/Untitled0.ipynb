{
  "nbformat": 4,
  "nbformat_minor": 0,
  "metadata": {
    "colab": {
      "provenance": []
    },
    "kernelspec": {
      "name": "python3",
      "display_name": "Python 3"
    },
    "language_info": {
      "name": "python"
    }
  },
  "cells": [
    {
      "cell_type": "code",
      "source": [
        "from sre_constants import JUMP\n",
        "import random\n",
        "\n",
        "class Human():\n",
        "    def __init__(self, name, age):\n",
        "      self.name = name\n",
        "      self.age = age\n",
        "\n",
        "    def check_adult(self):\n",
        "      if self.age >= 20:\n",
        "        print(f\"{self.name} is an adult\")\n",
        "      else:\n",
        "        print(f\"{self.name} isn't an adult\")\n",
        "\n",
        "humans = []\n",
        "\n",
        "i = random.randint(1,10)\n",
        "j = 1\n",
        "while i != 5:\n",
        "  j_str = \"Prisoner\" + str(j)\n",
        "  k = random.randint(1,100)\n",
        "  humans.append(Human(j_str, k))\n",
        "  i = random.randint(1,10)\n",
        "  j += 1\n",
        "\n",
        "for human in humans:\n",
        "  human.check_adult()"
      ],
      "metadata": {
        "id": "A-dSSp28aMZU"
      },
      "execution_count": 27,
      "outputs": []
    }
  ]
}