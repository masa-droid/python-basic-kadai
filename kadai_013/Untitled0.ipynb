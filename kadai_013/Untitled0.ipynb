{
  "nbformat": 4,
  "nbformat_minor": 0,
  "metadata": {
    "colab": {
      "provenance": []
    },
    "kernelspec": {
      "name": "python3",
      "display_name": "Python 3"
    },
    "language_info": {
      "name": "python"
    }
  },
  "cells": [
    {
      "cell_type": "code",
      "source": [
        "tax = 1.10\n",
        "def calculate_consumptiontax(price,tax) -> int:\n",
        "    return int(price * tax)\n",
        "\n",
        "print(calculate_consumptiontax(100,tax))\n"
      ],
      "metadata": {
        "colab": {
          "base_uri": "https://localhost:8080/"
        },
        "id": "5-_QX-RcIV0l",
        "outputId": "a45ed738-b853-4eaf-9452-ee7cb073dac3"
      },
      "execution_count": 25,
      "outputs": [
        {
          "output_type": "stream",
          "name": "stdout",
          "text": [
            "110\n"
          ]
        }
      ]
    }
  ]
}