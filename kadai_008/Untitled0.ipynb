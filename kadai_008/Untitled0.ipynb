{
  "nbformat": 4,
  "nbformat_minor": 0,
  "metadata": {
    "colab": {
      "provenance": []
    },
    "kernelspec": {
      "name": "python3",
      "display_name": "Python 3"
    },
    "language_info": {
      "name": "python"
    }
  },
  "cells": [
    {
      "cell_type": "code",
      "source": [
        "import random\n",
        "var = random.randint(1,100)\n",
        "if (var % 3) == 0 and (var % 5) == 0:\n",
        "    print(\"FizzBuzz\")\n",
        "elif (var % 3) == 0:\n",
        "    print(\"Fizz\")\n",
        "elif (var % 5) == 0:\n",
        "    print(\"Buzz\")\n",
        "else :\n",
        "    print(var)\n"
      ],
      "metadata": {
        "colab": {
          "base_uri": "https://localhost:8080/"
        },
        "id": "eOfQIWc2IU8B",
        "outputId": "31f7cd24-693a-48a8-aa74-6d98e244d1f4"
      },
      "execution_count": 9,
      "outputs": [
        {
          "output_type": "stream",
          "name": "stdout",
          "text": [
            "17\n"
          ]
        }
      ]
    }
  ]
}