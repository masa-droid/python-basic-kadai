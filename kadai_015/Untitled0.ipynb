{
  "nbformat": 4,
  "nbformat_minor": 0,
  "metadata": {
    "colab": {
      "provenance": []
    },
    "kernelspec": {
      "name": "python3",
      "display_name": "Python 3"
    },
    "language_info": {
      "name": "python"
    }
  },
  "cells": [
    {
      "cell_type": "code",
      "source": [
        "from collections.abc import AsyncGenerator\n",
        "class Human:\n",
        "    def __init__(self, name, age):\n",
        "        self.name = name\n",
        "        self.age = age\n",
        "\n",
        "\n",
        "    def printinfo(self):\n",
        "        print(f\"名前は{self.name}です。年齢は{self.age}歳です\")\n",
        "\n",
        "michael = Human(\"michael\", 24)\n",
        "\n",
        "\n",
        "michael.printinfo()\n",
        "\n"
      ],
      "metadata": {
        "colab": {
          "base_uri": "https://localhost:8080/"
        },
        "id": "1UqePDStedGO",
        "outputId": "8c38ab2e-557d-4951-9456-f72f2b70ab2e"
      },
      "execution_count": 2,
      "outputs": [
        {
          "output_type": "stream",
          "name": "stdout",
          "text": [
            "名前はmichaelです。年齢は24歳です\n"
          ]
        }
      ]
    }
  ]
}