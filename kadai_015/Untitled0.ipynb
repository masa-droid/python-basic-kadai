{
  "nbformat": 4,
  "nbformat_minor": 0,
  "metadata": {
    "colab": {
      "provenance": []
    },
    "kernelspec": {
      "name": "python3",
      "display_name": "Python 3"
    },
    "language_info": {
      "name": "python"
    }
  },
  "cells": [
    {
      "cell_type": "code",
      "source": [
        "from collections.abc import AsyncGenerator\n",
        "class Human:\n",
        "    def __init__(self):\n",
        "        self.name = \"\"\n",
        "        self.age = \"\"\n",
        "\n",
        "    def set_name(self, name):\n",
        "        self.name = name\n",
        "\n",
        "    def set_age(self, age):\n",
        "        self.age = age\n",
        "\n",
        "    def printinfo(self):\n",
        "        print(f\"名前は{self.name}です。年齢は{self.age}歳です\")\n",
        "\n",
        "michael = Human()\n",
        "michael.set_name(\"Michael\")\n",
        "michael.set_age(25)\n",
        "\n",
        "michael.printinfo()\n",
        "\n"
      ],
      "metadata": {
        "colab": {
          "base_uri": "https://localhost:8080/"
        },
        "id": "1UqePDStedGO",
        "outputId": "41596be6-3d2b-4ab6-bf00-c0fe0827adea"
      },
      "execution_count": 34,
      "outputs": [
        {
          "output_type": "stream",
          "name": "stdout",
          "text": [
            "名前はMichaelです。年齢は25歳です\n"
          ]
        }
      ]
    }
  ]
}